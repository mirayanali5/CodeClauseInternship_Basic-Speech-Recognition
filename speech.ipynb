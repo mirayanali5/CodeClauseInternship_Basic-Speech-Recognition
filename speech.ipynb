{
 "cells": [
  {
   "cell_type": "code",
   "execution_count": 1,
   "id": "475ef7b4-d61a-4798-931d-7cfa9385cb51",
   "metadata": {
    "scrolled": true
   },
   "outputs": [
    {
     "name": "stdout",
     "output_type": "stream",
     "text": [
      "Collecting SpeechRecognition\n",
      "  Downloading speechrecognition-3.14.3-py3-none-any.whl.metadata (30 kB)\n",
      "Collecting pyaudio\n",
      "  Downloading PyAudio-0.2.14-cp311-cp311-win_amd64.whl.metadata (2.7 kB)\n",
      "Requirement already satisfied: typing-extensions in c:\\users\\miray\\appdata\\local\\programs\\python\\python311\\lib\\site-packages (from SpeechRecognition) (4.13.2)\n",
      "Downloading speechrecognition-3.14.3-py3-none-any.whl (32.9 MB)\n",
      "   ---------------------------------------- 0.0/32.9 MB ? eta -:--:--\n",
      "   - -------------------------------------- 1.3/32.9 MB 7.4 MB/s eta 0:00:05\n",
      "   --- ------------------------------------ 2.9/32.9 MB 7.3 MB/s eta 0:00:05\n",
      "   ----- ---------------------------------- 4.5/32.9 MB 7.3 MB/s eta 0:00:04\n",
      "   ------- -------------------------------- 6.0/32.9 MB 7.2 MB/s eta 0:00:04\n",
      "   --------- ------------------------------ 7.6/32.9 MB 7.2 MB/s eta 0:00:04\n",
      "   ----------- ---------------------------- 9.2/32.9 MB 7.2 MB/s eta 0:00:04\n",
      "   ------------ --------------------------- 10.0/32.9 MB 7.1 MB/s eta 0:00:04\n",
      "   ------------- -------------------------- 11.3/32.9 MB 6.8 MB/s eta 0:00:04\n",
      "   --------------- ------------------------ 13.1/32.9 MB 6.9 MB/s eta 0:00:03\n",
      "   ----------------- ---------------------- 14.4/32.9 MB 6.9 MB/s eta 0:00:03\n",
      "   ------------------- -------------------- 16.0/32.9 MB 6.9 MB/s eta 0:00:03\n",
      "   --------------------- ------------------ 17.6/32.9 MB 6.9 MB/s eta 0:00:03\n",
      "   ---------------------- ----------------- 18.9/32.9 MB 6.9 MB/s eta 0:00:03\n",
      "   ------------------------ --------------- 20.2/32.9 MB 6.8 MB/s eta 0:00:02\n",
      "   -------------------------- ------------- 21.8/32.9 MB 6.8 MB/s eta 0:00:02\n",
      "   --------------------------- ------------ 22.5/32.9 MB 6.8 MB/s eta 0:00:02\n",
      "   ---------------------------- ----------- 23.3/32.9 MB 6.5 MB/s eta 0:00:02\n",
      "   ------------------------------ --------- 24.6/32.9 MB 6.5 MB/s eta 0:00:02\n",
      "   ------------------------------- -------- 26.2/32.9 MB 6.6 MB/s eta 0:00:02\n",
      "   --------------------------------- ------ 27.8/32.9 MB 6.6 MB/s eta 0:00:01\n",
      "   ----------------------------------- ---- 29.4/32.9 MB 6.6 MB/s eta 0:00:01\n",
      "   ------------------------------------- -- 30.7/32.9 MB 6.6 MB/s eta 0:00:01\n",
      "   ---------------------------------------  32.2/32.9 MB 6.6 MB/s eta 0:00:01\n",
      "   ---------------------------------------  32.8/32.9 MB 6.7 MB/s eta 0:00:01\n",
      "   ---------------------------------------  32.8/32.9 MB 6.7 MB/s eta 0:00:01\n",
      "   ---------------------------------------- 32.9/32.9 MB 6.1 MB/s eta 0:00:00\n",
      "Downloading PyAudio-0.2.14-cp311-cp311-win_amd64.whl (164 kB)\n",
      "Installing collected packages: pyaudio, SpeechRecognition\n",
      "\n",
      "   -------------------- ------------------- 1/2 [SpeechRecognition]\n",
      "   -------------------- ------------------- 1/2 [SpeechRecognition]\n",
      "   -------------------- ------------------- 1/2 [SpeechRecognition]\n",
      "   -------------------- ------------------- 1/2 [SpeechRecognition]\n",
      "   -------------------- ------------------- 1/2 [SpeechRecognition]\n",
      "   ---------------------------------------- 2/2 [SpeechRecognition]\n",
      "\n",
      "Successfully installed SpeechRecognition-3.14.3 pyaudio-0.2.14\n",
      "Note: you may need to restart the kernel to use updated packages.\n"
     ]
    }
   ],
   "source": [
    "pip install SpeechRecognition pyaudio\n"
   ]
  },
  {
   "cell_type": "code",
   "execution_count": 3,
   "id": "751f2dab-4b0f-4228-97c1-3519abbc4d5d",
   "metadata": {},
   "outputs": [
    {
     "data": {
      "text/markdown": [
       "**🎤 Speak something...**"
      ],
      "text/plain": [
       "<IPython.core.display.Markdown object>"
      ]
     },
     "metadata": {},
     "output_type": "display_data"
    },
    {
     "data": {
      "text/markdown": [
       "**✅ You said:** `hey how are you I am good thank you`"
      ],
      "text/plain": [
       "<IPython.core.display.Markdown object>"
      ]
     },
     "metadata": {},
     "output_type": "display_data"
    }
   ],
   "source": [
    "import speech_recognition as sr\n",
    "from IPython.display import display, Markdown\n",
    "\n",
    "recognizer = sr.Recognizer()\n",
    "\n",
    "with sr.Microphone() as source:\n",
    "    display(Markdown(\"**🎤 Speak something...**\"))\n",
    "    audio = recognizer.listen(source)\n",
    "\n",
    "try:\n",
    "    text = recognizer.recognize_google(audio)\n",
    "    display(Markdown(f\"**✅ You said:** `{text}`\"))\n",
    "except sr.UnknownValueError:\n",
    "    display(Markdown(\"**❌ Could not understand audio.**\"))\n",
    "except sr.RequestError:\n",
    "    display(Markdown(\"**❌ Could not connect to Google Speech API.**\"))\n"
   ]
  }
 ],
 "metadata": {
  "kernelspec": {
   "display_name": "Python 3 (ipykernel)",
   "language": "python",
   "name": "python3"
  },
  "language_info": {
   "codemirror_mode": {
    "name": "ipython",
    "version": 3
   },
   "file_extension": ".py",
   "mimetype": "text/x-python",
   "name": "python",
   "nbconvert_exporter": "python",
   "pygments_lexer": "ipython3",
   "version": "3.11.7"
  }
 },
 "nbformat": 4,
 "nbformat_minor": 5
}
